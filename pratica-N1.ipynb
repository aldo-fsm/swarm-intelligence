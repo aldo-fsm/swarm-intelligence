{
 "cells": [
  {
   "cell_type": "code",
   "execution_count": 1,
   "metadata": {},
   "outputs": [],
   "source": [
    "from pso import PSO\n",
    "from pso.initializers import UniformInitializer\n",
    "from pso.topology import GlobalTopology, LocalTopology, FocalTopology\n",
    "from test_functions import sphereFunction, rastriginsFunction, rosenbrockFunction"
   ]
  },
  {
   "cell_type": "code",
   "execution_count": 2,
   "metadata": {},
   "outputs": [],
   "source": [
    "num_iterations = 10000"
   ]
  },
  {
   "cell_type": "code",
   "execution_count": 17,
   "metadata": {},
   "outputs": [],
   "source": [
    "basicPSO = PSO(\n",
    "    num_particles=30,\n",
    "    num_dims=30,\n",
    "    c1=2.05,\n",
    "    c2=2.05,\n",
    "    final_w=0.8,\n",
    "    topology=GlobalTopology(),\n",
    ")"
   ]
  },
  {
   "cell_type": "code",
   "execution_count": 18,
   "metadata": {},
   "outputs": [],
   "source": [
    "basicPSO.initialize(UniformInitializer([[-5.12, 5.12]]))\n",
    "for i in range(num_iterations):\n",
    "    basicPSO.minimize(sphereFunction)"
   ]
  },
  {
   "cell_type": "code",
   "execution_count": 20,
   "metadata": {},
   "outputs": [
    {
     "data": {
      "text/plain": [
       "(array([ 1.34107266, -3.6694612 ,  1.23266117, -2.33756562,  1.77705405,\n",
       "        -3.78015938,  1.36186808,  4.92306465, -4.10258515, -1.78839597,\n",
       "        -2.94258875,  1.90508775,  0.57266722, -3.66175108,  1.05626742,\n",
       "        -0.3920695 ,  0.26374873,  0.86117361, -2.66049527,  0.30771376,\n",
       "        -0.92523966, -4.06601822,  1.85221818, -3.91840538, -1.27681201,\n",
       "        -3.28364539, -1.68965065, -0.17309763,  1.7779704 ,  2.07881924]),\n",
       " 180.04682320258217)"
      ]
     },
     "execution_count": 20,
     "metadata": {},
     "output_type": "execute_result"
    }
   ],
   "source": [
    "basicPSO.getBestSolution()"
   ]
  },
  {
   "cell_type": "code",
   "execution_count": 11,
   "metadata": {},
   "outputs": [],
   "source": [
    "import numpy as np"
   ]
  },
  {
   "cell_type": "code",
   "execution_count": 13,
   "metadata": {},
   "outputs": [
    {
     "data": {
      "text/plain": [
       "0"
      ]
     },
     "execution_count": 13,
     "metadata": {},
     "output_type": "execute_result"
    }
   ],
   "source": []
  },
  {
   "cell_type": "code",
   "execution_count": 21,
   "metadata": {},
   "outputs": [],
   "source": [
    "basicPSO.initialize(UniformInitializer([[-5.12, 5.12]]))"
   ]
  },
  {
   "cell_type": "code",
   "execution_count": 40,
   "metadata": {},
   "outputs": [
    {
     "data": {
      "text/plain": [
       "(array([ 0.95754185,  1.81634121,  3.072882  , -4.00658501, -3.26070204,\n",
       "        -1.64400126,  2.65156689, -0.79139206, -1.39353984, -0.79922982,\n",
       "         0.46158319,  2.74232105,  0.41621677, -1.52227158,  3.5337271 ,\n",
       "         1.20458478,  2.5750101 ,  4.4691507 , -1.44805668,  2.2875594 ,\n",
       "        -3.84905188, -0.58552588,  1.98249153, -1.9150559 ,  0.90870474,\n",
       "        -1.94352937, -4.75190256, -1.18127459,  1.22046073, -1.7662497 ]),\n",
       " 167.32397412495283)"
      ]
     },
     "execution_count": 40,
     "metadata": {},
     "output_type": "execute_result"
    }
   ],
   "source": [
    "basicPSO.minimize(sphereFunction)\n",
    "basicPSO.getBestSolution()"
   ]
  }
 ],
 "metadata": {
  "kernelspec": {
   "display_name": "Python 3",
   "language": "python",
   "name": "python3"
  },
  "language_info": {
   "codemirror_mode": {
    "name": "ipython",
    "version": 3
   },
   "file_extension": ".py",
   "mimetype": "text/x-python",
   "name": "python",
   "nbconvert_exporter": "python",
   "pygments_lexer": "ipython3",
   "version": "3.7.1"
  }
 },
 "nbformat": 4,
 "nbformat_minor": 2
}
