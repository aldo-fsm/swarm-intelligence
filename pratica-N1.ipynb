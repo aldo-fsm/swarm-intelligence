{
 "cells": [
  {
   "cell_type": "code",
   "execution_count": 1,
   "metadata": {},
   "outputs": [],
   "source": [
    "from pso import PSO\n",
    "from pso.initializers import UniformInitializer\n",
    "from pso.topology import GlobalTopology, LocalTopology, FocalTopology\n",
    "from test_functions import sphereFunction, rastriginsFunction, rosenbrockFunction"
   ]
  },
  {
   "cell_type": "code",
   "execution_count": 2,
   "metadata": {},
   "outputs": [],
   "source": [
    "num_particles = 30\n",
    "num_dimensions = 30\n",
    "num_iterations = 10000\n",
    "c1 = c2 = 2.05"
   ]
  },
  {
   "cell_type": "code",
   "execution_count": 3,
   "metadata": {},
   "outputs": [],
   "source": [
    "basicPSO = PSO(\n",
    "    num_particles=num_particles,\n",
    "    num_dims=num_dimensions,\n",
    "    c1=c1,\n",
    "    c2=c2,\n",
    "    topology=GlobalTopology(),\n",
    ")"
   ]
  },
  {
   "cell_type": "code",
   "execution_count": 4,
   "metadata": {},
   "outputs": [
    {
     "name": "stderr",
     "output_type": "stream",
     "text": [
      "/home/aldo/anaconda3/lib/python3.7/site-packages/numpy/core/fromnumeric.py:83: RuntimeWarning: overflow encountered in reduce\n",
      "  return ufunc.reduce(obj, axis, dtype, out, **passkwargs)\n",
      "/home/aldo/git/swarm-intelligence/test_functions.py:6: RuntimeWarning: overflow encountered in square\n",
      "  return np.sum(x**2)\n",
      "/home/aldo/git/swarm-intelligence/pso/pso.py:54: RuntimeWarning: overflow encountered in add\n",
      "  self.vel = self._get_w()*self.vel + self.c1*r1*(self.pbest - self.pos) + self.c2*r2*(lbest - self.pos)\n",
      "/home/aldo/git/swarm-intelligence/pso/pso.py:54: RuntimeWarning: invalid value encountered in add\n",
      "  self.vel = self._get_w()*self.vel + self.c1*r1*(self.pbest - self.pos) + self.c2*r2*(lbest - self.pos)\n",
      "/home/aldo/git/swarm-intelligence/pso/pso.py:55: RuntimeWarning: overflow encountered in add\n",
      "  self.pos = self.pos + self.clerc_factor*self.vel\n",
      "/home/aldo/git/swarm-intelligence/pso/pso.py:45: RuntimeWarning: invalid value encountered in less\n",
      "  better = fitness < self.pbest_fitness\n",
      "/home/aldo/git/swarm-intelligence/pso/pso.py:54: RuntimeWarning: overflow encountered in multiply\n",
      "  self.vel = self._get_w()*self.vel + self.c1*r1*(self.pbest - self.pos) + self.c2*r2*(lbest - self.pos)\n",
      "/home/aldo/git/swarm-intelligence/pso/pso.py:55: RuntimeWarning: invalid value encountered in add\n",
      "  self.pos = self.pos + self.clerc_factor*self.vel\n"
     ]
    }
   ],
   "source": [
    "basicPSO.initialize(UniformInitializer([[-5.12, 5.12]]))\n",
    "for i in range(num_iterations):\n",
    "    basicPSO.minimize(sphereFunction)"
   ]
  },
  {
   "cell_type": "code",
   "execution_count": 5,
   "metadata": {},
   "outputs": [
    {
     "data": {
      "text/plain": [
       "(array([ 1.03992333, -0.53156967, -1.47843806, -0.68027118,  0.22832396,\n",
       "         0.72758097,  0.27830997,  0.27056125,  0.47653327, -0.85901047,\n",
       "         0.21263951, -2.15029594,  0.83241257,  2.00981313,  0.62048598,\n",
       "         0.0386832 , -0.62576882,  2.18466271,  0.14769127, -0.61111625,\n",
       "        -0.01823707,  1.57255005,  1.94898138, -0.09547981, -0.06901906,\n",
       "         2.45373471,  0.83135196, -0.54095509, -0.22651683,  0.40020715]),\n",
       " array([34.55878683]))"
      ]
     },
     "execution_count": 5,
     "metadata": {},
     "output_type": "execute_result"
    }
   ],
   "source": [
    "basicPSO.getBestSolution()"
   ]
  },
  {
   "cell_type": "code",
   "execution_count": 4,
   "metadata": {},
   "outputs": [],
   "source": [
    "import numpy as np"
   ]
  },
  {
   "cell_type": "code",
   "execution_count": 72,
   "metadata": {},
   "outputs": [],
   "source": [
    "basicPSO.initialize(UniformInitializer([[-5.12, 5.12]]))"
   ]
  },
  {
   "cell_type": "code",
   "execution_count": 93,
   "metadata": {},
   "outputs": [
    {
     "data": {
      "text/plain": [
       "(array([-0.3347569 , -1.16583764, -0.19577141, -0.72160066, -0.24592559,\n",
       "         0.17725647, -0.78827835,  0.77215564, -0.41833093, -0.89073865,\n",
       "         0.63773355, -0.94201724, -0.08108438, -0.16902725, -0.1942792 ,\n",
       "        -0.21888255, -0.21303247,  0.38712461, -0.51237199, -0.63868265,\n",
       "         0.49710535, -1.79566752,  0.11561685,  0.91832044,  0.6476765 ,\n",
       "         1.1252929 ,  0.25453281, -1.19972273, -0.88014683, -1.42689801]),\n",
       " array([16.91758648]))"
      ]
     },
     "execution_count": 93,
     "metadata": {},
     "output_type": "execute_result"
    }
   ],
   "source": [
    "basicPSO.minimize(sphereFunction)\n",
    "basicPSO.getBestSolution()"
   ]
  },
  {
   "cell_type": "code",
   "execution_count": 14,
   "metadata": {},
   "outputs": [],
   "source": [
    "r1, r2 = [np.random.uniform(0, 1, 5)[:, None] for _ in range(2)]"
   ]
  },
  {
   "cell_type": "code",
   "execution_count": 17,
   "metadata": {},
   "outputs": [
    {
     "data": {
      "text/plain": [
       "array([[0.74706745],\n",
       "       [0.17220533],\n",
       "       [0.00861539],\n",
       "       [0.63987541],\n",
       "       [0.89245061]])"
      ]
     },
     "execution_count": 17,
     "metadata": {},
     "output_type": "execute_result"
    }
   ],
   "source": [
    "r1"
   ]
  },
  {
   "cell_type": "code",
   "execution_count": 8,
   "metadata": {},
   "outputs": [],
   "source": [
    "import numpy as np"
   ]
  },
  {
   "cell_type": "code",
   "execution_count": null,
   "metadata": {},
   "outputs": [],
   "source": []
  },
  {
   "cell_type": "code",
   "execution_count": 15,
   "metadata": {},
   "outputs": [],
   "source": [
    "l = np.array([1,2,3])[:, None]"
   ]
  },
  {
   "cell_type": "code",
   "execution_count": 17,
   "metadata": {},
   "outputs": [
    {
     "data": {
      "text/plain": [
       "array([[ True],\n",
       "       [ True],\n",
       "       [ True]])"
      ]
     },
     "execution_count": 17,
     "metadata": {},
     "output_type": "execute_result"
    }
   ],
   "source": [
    "np.logical_and(l,l)"
   ]
  },
  {
   "cell_type": "code",
   "execution_count": 56,
   "metadata": {},
   "outputs": [
    {
     "data": {
      "text/plain": [
       "array([[ 1,  2],\n",
       "       [30, 40]])"
      ]
     },
     "execution_count": 56,
     "metadata": {},
     "output_type": "execute_result"
    }
   ],
   "source": [
    "np.where(np.array([True, False])[:,None], [[1,2], [3,4]], [[10,20],[30,40]])"
   ]
  },
  {
   "cell_type": "code",
   "execution_count": 18,
   "metadata": {},
   "outputs": [],
   "source": [
    "gt = GlobalTopology()"
   ]
  },
  {
   "cell_type": "code",
   "execution_count": 24,
   "metadata": {},
   "outputs": [],
   "source": [
    "pbest = np.array([[1,2,3], [4,5,6], [7,8,9]])"
   ]
  },
  {
   "cell_type": "code",
   "execution_count": 32,
   "metadata": {},
   "outputs": [
    {
     "data": {
      "text/plain": [
       "array([[4, 5, 6],\n",
       "       [4, 5, 6],\n",
       "       [7, 8, 9]])"
      ]
     },
     "execution_count": 32,
     "metadata": {},
     "output_type": "execute_result"
    }
   ],
   "source": [
    "pbest[FocalTopology()(np.array([10,2,3])[:, None])]"
   ]
  },
  {
   "cell_type": "code",
   "execution_count": null,
   "metadata": {},
   "outputs": [],
   "source": []
  }
 ],
 "metadata": {
  "kernelspec": {
   "display_name": "Python 3",
   "language": "python",
   "name": "python3"
  },
  "language_info": {
   "codemirror_mode": {
    "name": "ipython",
    "version": 3
   },
   "file_extension": ".py",
   "mimetype": "text/x-python",
   "name": "python",
   "nbconvert_exporter": "python",
   "pygments_lexer": "ipython3",
   "version": "3.7.1"
  }
 },
 "nbformat": 4,
 "nbformat_minor": 2
}
